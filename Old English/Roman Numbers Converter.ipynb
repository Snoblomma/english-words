{
 "cells": [
  {
   "cell_type": "code",
   "execution_count": 6,
   "metadata": {
    "collapsed": false
   },
   "outputs": [
    {
     "data": {
      "text/plain": [
       "5069"
      ]
     },
     "execution_count": 6,
     "metadata": {},
     "output_type": "execute_result"
    }
   ],
   "source": [
    "f = open(\"Sources/Beowulf.txt\", \"r\")\n",
    "\n",
    "words = []\n",
    "\n",
    "for line in f:\n",
    "    entries = line.strip('\\n\\t\"0123456789,.;:?!').split(\" \")\n",
    "    for entry in entries:\n",
    "            entry = entry.strip('\\n\\t\"0123456789,.;:?!').upper()\n",
    "            if entry not in words:\n",
    "                words.append(entry)\n",
    "f.close()\n",
    "\n",
    "words.sort()\n",
    "len(words)"
   ]
  },
  {
   "cell_type": "code",
   "execution_count": 37,
   "metadata": {
    "collapsed": false
   },
   "outputs": [
    {
     "name": "stdout",
     "output_type": "stream",
     "text": [
      "10\n",
      "100\n",
      "1\n",
      "10\n"
     ]
    }
   ],
   "source": [
    "romanMap = {\"I\": 1, \"V\": 5, \"X\": 10, \"L\": 50, \"C\": 100, \"D\": 500, \"M\": 1000}\n",
    "romanNumber = \"XCIX\"\n",
    "total = 0\n",
    "romanArray = []\n",
    "for letter in romanNumber:\n",
    "    romanArray.append(romanMap[letter])\n",
    "\n",
    "##repetition:\n",
    "repetitionArray = []\n",
    "expect = None\n",
    "for number in romanArray:\n",
    "    if number != expect or expect is None:\n",
    "        repetitionArray.append(number)\n",
    "        expect = number\n",
    "    elif number == expect:\n",
    "        repetitionArray[len(repetitionArray)-1] = repetitionArray[len(repetitionArray)-1] + number\n",
    "    \n",
    "for n in repetitionArray:\n",
    "    print(n)"
   ]
  },
  {
   "cell_type": "code",
   "execution_count": 40,
   "metadata": {
    "collapsed": false
   },
   "outputs": [
    {
     "name": "stdout",
     "output_type": "stream",
     "text": [
      "10\n",
      "100\n",
      "1\n",
      "10\n"
     ]
    }
   ],
   "source": [
    "##rule of addition\n",
    "additionArray = []\n",
    "for number in repetitionArray:\n",
    "    if len(additionArray) == 0:\n",
    "        additionArray.append(number)\n",
    "    elif number < additionArray[len(additionArray)-1] and additionArray[len(additionArray)-1]/number <= 10:\n",
    "        additionArray[len(additionArray)-1] = additionArray[len(additionArray)-1] + number\n",
    "    else:\n",
    "        additionArray.append(number)\n",
    "    \n",
    "for n in additionArray:\n",
    "    print(n)"
   ]
  },
  {
   "cell_type": "code",
   "execution_count": 42,
   "metadata": {
    "collapsed": false
   },
   "outputs": [
    {
     "name": "stdout",
     "output_type": "stream",
     "text": [
      "90\n",
      "9\n"
     ]
    }
   ],
   "source": [
    "##rule of substraction\n",
    "substractionArray = []\n",
    "for number in additionArray:\n",
    "    if len(substractionArray) == 0:\n",
    "        substractionArray.append(number)\n",
    "    elif number > substractionArray[len(substractionArray)-1] and substractionArray[len(substractionArray)-1]/number <= 10:\n",
    "        substractionArray[len(substractionArray)-1] = number - substractionArray[len(substractionArray)-1]\n",
    "    else:\n",
    "        substractionArray.append(number)\n",
    "    \n",
    "for n in substractionArray:\n",
    "    print(n)"
   ]
  },
  {
   "cell_type": "code",
   "execution_count": null,
   "metadata": {
    "collapsed": true
   },
   "outputs": [],
   "source": []
  }
 ],
 "metadata": {
  "kernelspec": {
   "display_name": "Python 3",
   "language": "python",
   "name": "python3"
  },
  "language_info": {
   "codemirror_mode": {
    "name": "ipython",
    "version": 3
   },
   "file_extension": ".py",
   "mimetype": "text/x-python",
   "name": "python",
   "nbconvert_exporter": "python",
   "pygments_lexer": "ipython3",
   "version": "3.6.0"
  }
 },
 "nbformat": 4,
 "nbformat_minor": 2
}
